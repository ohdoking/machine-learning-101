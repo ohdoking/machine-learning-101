{
 "cells": [
  {
   "cell_type": "markdown",
   "metadata": {},
   "source": [
    "# Anomaly Detection\n",
    "\n",
    "In this part will look at the anomaly detection built by CoScale and how you can build yourself.\n",
    "\n",
    "## 1. Load Data\n",
    "\n",
    "First we will load the data using a [pickle format](https://docs.python.org/2/library/pickle.html).\n",
    "\n",
    "The data we use contains the pageviews of one of our own websites and for convenience there is only 1 data point per hour."
   ]
  },
  {
   "cell_type": "code",
   "execution_count": null,
   "metadata": {},
   "outputs": [],
   "source": [
    "import pickle\n",
    "\n",
    "past = pickle.load(open('data/past_data.pickle', 'rb'), encoding='latin1')\n",
    "all_data = pickle.load(open('data/all_data.pickle', 'rb'), encoding='latin1')"
   ]
  },
  {
   "cell_type": "markdown",
   "metadata": {},
   "source": [
    "## 2. Plot past data\n",
    "\n",
    "To plot the past data we will use ```matplotlib.pyplot```. For convenience we import it as ```plt```. \n",
    "\n",
    "```% matplotlib inline``` makes sure you can see the output in the notebook. \n",
    "\n",
    "(Use ```% matplotlib notebook``` if you want to make it ineractive. Don't forget to click the power button to finish the interaction and to be able to plot a new figure.)"
   ]
  },
  {
   "cell_type": "code",
   "execution_count": null,
   "metadata": {},
   "outputs": [],
   "source": [
    "% matplotlib inline\n",
    "import matplotlib.pyplot as plt\n",
    "\n",
    "plt.figure(figsize=(20,4)) # This creates a new figure with the dimensions of 20 by 4\n",
    "plt.plot(past)             # This creates the actual plot\n",
    "plt.show()                 # This shows the plot"
   ]
  },
  {
   "cell_type": "markdown",
   "metadata": {},
   "source": [
    "## 3. Find the minimum and maximum\n",
    "\n",
    "Use [```np.nanmax()```](http://docs.scipy.org/doc/numpy/reference/generated/numpy.nanmax.html#numpy.nanmax) and [```np.nanmin()```](http://docs.scipy.org/doc/numpy/reference/generated/numpy.nanmin.html) to find the minmum and maximum while ignoring the NaNs."
   ]
  },
  {
   "cell_type": "code",
   "execution_count": null,
   "metadata": {},
   "outputs": [],
   "source": [
    "import numpy as np"
   ]
  },
  {
   "cell_type": "code",
   "execution_count": null,
   "metadata": {
    "deletable": false,
    "nbgrader": {
     "checksum": "fd74b54caec6c3f2efce363afb70ad0f",
     "grade": false,
     "grade_id": "ad_min_max",
     "locked": false,
     "schema_version": 1,
     "solution": true
    }
   },
   "outputs": [],
   "source": [
    "##### Implement this part of the code #####\n",
    "raise NotImplementedError()\n",
    "# maximum = ?\n",
    "# minimum = ?\n",
    "print(minimum, maximum)"
   ]
  },
  {
   "cell_type": "markdown",
   "metadata": {},
   "source": [
    "And plot these together with the data using the [```plt.axhline()```](http://matplotlib.org/api/pyplot_api.html#matplotlib.pyplot.axhline) function."
   ]
  },
  {
   "cell_type": "code",
   "execution_count": null,
   "metadata": {},
   "outputs": [],
   "source": [
    "plt.figure(figsize=(20,4))\n",
    "plt.plot(past)\n",
    "plt.axhline(maximum, color='r')\n",
    "plt.axhline(minimum, color='r')\n",
    "plt.show()"
   ]
  },
  {
   "cell_type": "markdown",
   "metadata": {},
   "source": [
    "## 4. Testing the model on unseen data\n",
    "\n",
    "Now plot all the data instead of just the past data"
   ]
  },
  {
   "cell_type": "code",
   "execution_count": null,
   "metadata": {},
   "outputs": [],
   "source": [
    "plt.figure(figsize=(20,4))\n",
    "plt.plot(all_data, color='g')\n",
    "plt.plot(past, color='b')\n",
    "plt.axhline(maximum, color='r')\n",
    "plt.axhline(minimum, color='r')\n",
    "plt.show()"
   ]
  },
  {
   "cell_type": "markdown",
   "metadata": {},
   "source": [
    "You can clearly see now  that this model does not detect any anomalies. However, the last day of data clearly looks different compared to the other days.\n",
    "\n",
    "In what follows we will build a better model for anomaly detection that is able to detect these 'shape shifts' as well.\n",
    "\n",
    "## 5. Building a model with seasonality\n",
    "\n",
    "To do this we are going to take a step by step approach. Maybe it won't be clear at first why every step is necessary, but that will become clear throughout the process.\n",
    "\n",
    "First we are going to reshape the past data to a 2 dimensional array with 24 columns. This will give us 1 row for each day and 1 column for each hour. For this we are going to use the [```np.reshape()```](https://docs.scipy.org/doc/numpy/reference/generated/numpy.reshape.html) function. The newshape parameter is a tuple which in this case should be ```(-1, 24)```. If you use a ```-1``` the reshape function will automatically compute that dimension. Pay attention to the order in which the numbers are repositonned (the default ordering should work fine here)."
   ]
  },
  {
   "cell_type": "code",
   "execution_count": null,
   "metadata": {
    "deletable": false,
    "nbgrader": {
     "checksum": "e86073811fa9c035bc0f7cd1323e7fab",
     "grade": false,
     "grade_id": "ad_reshaped_past",
     "locked": false,
     "schema_version": 1,
     "solution": true
    }
   },
   "outputs": [],
   "source": [
    "##### Implement this part of the code #####\n",
    "raise NotImplementedError()\n",
    "# reshaped_past = ?\n",
    "\n",
    "assert len(reshaped_past.shape) == 2\n",
    "assert reshaped_past.shape[1] == 24"
   ]
  },
  {
   "cell_type": "markdown",
   "metadata": {},
   "source": [
    "Now we are going to compute the average over all days. For this we are going to use the [```np.mean()```](https://docs.scipy.org/doc/numpy/reference/generated/numpy.mean.html) with the axis variable set to the first dimension (```axis=0```). Next we are going to plot this."
   ]
  },
  {
   "cell_type": "code",
   "execution_count": null,
   "metadata": {
    "deletable": false,
    "nbgrader": {
     "checksum": "6b88139043c3753403586fe33ea58350",
     "grade": false,
     "grade_id": "ad_avg_past",
     "locked": false,
     "schema_version": 1,
     "solution": true
    }
   },
   "outputs": [],
   "source": [
    "##### Implement this part of the code #####\n",
    "raise NotImplementedError()\n",
    "# average_past = \n",
    "\n",
    "assert average_past.shape == (24,)\n",
    "\n",
    "plt.plot(average_past)\n",
    "plt.show()"
   ]
  },
  {
   "cell_type": "markdown",
   "metadata": {},
   "source": [
    "What you can see in the plot above is the average number of pageviews for eacht hour of the day.\n",
    "\n",
    "Now let's plot this together with the past data on 1 plot. Use a [for loop](https://wiki.python.org/moin/ForLoop) and the [```np.concatenate()```](http://docs.scipy.org/doc/numpy/reference/generated/numpy.concatenate.html) function to concatenate this average 6 times into the variable ```model```."
   ]
  },
  {
   "cell_type": "code",
   "execution_count": null,
   "metadata": {
    "deletable": false,
    "nbgrader": {
     "checksum": "00fb32f267d1ee367557f4dbacc57f54",
     "grade": false,
     "grade_id": "ad_model",
     "locked": false,
     "schema_version": 1,
     "solution": true
    }
   },
   "outputs": [],
   "source": [
    "model = []\n",
    "for i in range(6):\n",
    "##### Implement this part of the code #####\n",
    "raise NotImplementedError()\n",
    "#   model = np.concatenate( ? )\n",
    "\n",
    "plt.figure(figsize=(20,4))    \n",
    "plt.plot(model, color='k')\n",
    "plt.plot(past, color='b')\n",
    "plt.show()"
   ]
  },
  {
   "cell_type": "markdown",
   "metadata": {},
   "source": [
    "In the next step we are going to compute the maximum (= positive) and minimum (= negative) deviations from the average to determine what kind of deviations are normal. (Just substract the average/model from the past and take the min and the max of that)"
   ]
  },
  {
   "cell_type": "code",
   "execution_count": null,
   "metadata": {
    "deletable": false,
    "nbgrader": {
     "checksum": "f40e8e289d674289ca7620dd447b6abd",
     "grade": false,
     "grade_id": "ad_delta",
     "locked": false,
     "schema_version": 1,
     "solution": true
    }
   },
   "outputs": [],
   "source": [
    "##### Implement this part of the code #####\n",
    "raise NotImplementedError()\n",
    "print(delta_min, delta_max)"
   ]
  },
  {
   "cell_type": "markdown",
   "metadata": {},
   "source": [
    "Now let's plot this."
   ]
  },
  {
   "cell_type": "code",
   "execution_count": null,
   "metadata": {},
   "outputs": [],
   "source": [
    "plt.figure(figsize=(20,4))\n",
    "plt.plot(model, color='k')\n",
    "plt.plot(past, color='b')\n",
    "plt.plot(model + delta_max, color='r')\n",
    "plt.plot(model + delta_min, color='r')\n",
    "plt.show()"
   ]
  },
  {
   "cell_type": "markdown",
   "metadata": {},
   "source": [
    "Now let's test this on all data"
   ]
  },
  {
   "cell_type": "code",
   "execution_count": null,
   "metadata": {},
   "outputs": [],
   "source": [
    "model_all = np.concatenate((model, average_past))\n",
    "\n",
    "plt.figure(figsize=(20,4))\n",
    "plt.plot(all_data, color='g')\n",
    "plt.plot(model_all, color='k')\n",
    "plt.plot(past, color='b')\n",
    "plt.plot(model_all + delta_max, color='r')\n",
    "plt.plot(model_all + delta_min, color='r')\n",
    "plt.show()"
   ]
  },
  {
   "cell_type": "markdown",
   "metadata": {},
   "source": [
    "Now you can clearly see where the anomaly is detected by this more advanced model. The code below can gives you the exact indices where an anomaly is detected. The functions uses are the following [```np.where()```](https://docs.scipy.org/doc/numpy/reference/generated/numpy.where.html) and [```np.logical_or()```](http://docs.scipy.org/doc/numpy/reference/generated/numpy.logical_or.html)."
   ]
  },
  {
   "cell_type": "code",
   "execution_count": null,
   "metadata": {},
   "outputs": [],
   "source": [
    "anomaly_timepoints = np.where(np.logical_or(all_data < model_all + delta_min, all_data > model_all + delta_max))[0]\n",
    "\n",
    "plt.figure(figsize=(20,4))\n",
    "plt.scatter(anomaly_timepoints, all_data[anomaly_timepoints], color='r', linewidth=8)\n",
    "plt.plot(all_data, color='g')\n",
    "plt.plot(model_all, color='k')\n",
    "plt.plot(past, color='b')\n",
    "plt.plot(model_all + delta_max, color='r')\n",
    "plt.plot(model_all + delta_min, color='r')\n",
    "plt.xlim(0, len(all_data))\n",
    "plt.show()\n",
    "\n",
    "print('The anomaly occurs at the following timestamps:', anomaly_timepoints)"
   ]
  },
  {
   "cell_type": "code",
   "execution_count": null,
   "metadata": {},
   "outputs": [],
   "source": []
  }
 ],
 "metadata": {
  "anaconda-cloud": {},
  "kernelspec": {
   "display_name": "Python 3",
   "language": "python",
   "name": "python3"
  },
  "language_info": {
   "codemirror_mode": {
    "name": "ipython",
    "version": 3
   },
   "file_extension": ".py",
   "mimetype": "text/x-python",
   "name": "python",
   "nbconvert_exporter": "python",
   "pygments_lexer": "ipython3",
   "version": "3.6.2"
  }
 },
 "nbformat": 4,
 "nbformat_minor": 1
}
