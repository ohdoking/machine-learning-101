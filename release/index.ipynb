{
 "cells": [
  {
   "cell_type": "markdown",
   "metadata": {},
   "source": [
    "# Machine Learning 101++ in Python\n",
    "\n",
    "by Pieter Buteneers (@pieterbuteneers) and Bart De Vylder from CoScale\n",
    "\n",
    "\n",
    "This tutorial consists out of 3 parts. The first part will introduce you to Jupyter Notebooks and Numpy to get you started with Python. Part 2 shows how you can build an anomaly detection system similar to the one used by CoScale. And the last part covers the basics of machine learning. Click on the links below to go to each of the parts.\n",
    "\n",
    "\n",
    "## [1. Notebook and Numpy introduction](notebook_intro.ipynb)\n",
    "\n",
    "## [2. Machine Learning](machine_learning.ipynb)\n",
    "\n",
    "## [3. Recommendation Engine](recommendation_engine.ipynb)\n",
    "\n",
    "## 4. Extras\n",
    "\n",
    "[Simple Time Series Anomaly Detection @CoScale](anomaly_detection.ipynb)"
   ]
  },
  {
   "cell_type": "code",
   "execution_count": null,
   "metadata": {},
   "outputs": [],
   "source": []
  }
 ],
 "metadata": {
  "anaconda-cloud": {},
  "kernelspec": {
   "display_name": "Python 3",
   "language": "python",
   "name": "python3"
  },
  "language_info": {
   "codemirror_mode": {
    "name": "ipython",
    "version": 3
   },
   "file_extension": ".py",
   "mimetype": "text/x-python",
   "name": "python",
   "nbconvert_exporter": "python",
   "pygments_lexer": "ipython3",
   "version": "3.6.5"
  }
 },
 "nbformat": 4,
 "nbformat_minor": 1
}
